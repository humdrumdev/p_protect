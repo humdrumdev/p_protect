{
 "cells": [
  {
   "cell_type": "code",
   "execution_count": 1,
   "metadata": {},
   "outputs": [
    {
     "name": "stdout",
     "output_type": "stream",
     "text": [
      "\u001b[33mDEPRECATION: Python 2.7 reached the end of its life on January 1st, 2020. Please upgrade your Python as Python 2.7 is no longer maintained. pip 21.0 will drop support for Python 2.7 in January 2021. More details about Python 2 support in pip can be found at https://pip.pypa.io/en/latest/development/release-process/#python-2-support pip 21.0 will remove support for this functionality.\u001b[0m\n",
      "Defaulting to user installation because normal site-packages is not writeable\n",
      "Collecting gluoncv-torch\n",
      "  Downloading gluoncv-torch-0.0.5.tar.gz (14 kB)\n",
      "Requirement already satisfied: numpy in /Users/hel-moud/Library/Python/2.7/lib/python/site-packages (from gluoncv-torch) (1.16.6)\n",
      "Collecting torch\n",
      "  Downloading torch-1.5.0-cp27-none-macosx_10_7_x86_64.whl (80.5 MB)\n",
      "\u001b[K     |████████████████████████████████| 80.5 MB 48 kB/s s eta 0:00:01   |███▍                            | 8.6 MB 1.7 MB/s eta 0:00:44     |████████████████████████████▊   | 72.3 MB 33.6 MB/s eta 0:00:01\n",
      "\u001b[?25hCollecting tqdm\n",
      "  Downloading tqdm-4.64.0-py2.py3-none-any.whl (78 kB)\n",
      "\u001b[K     |████████████████████████████████| 78 kB 13.9 MB/s eta 0:00:01\n",
      "\u001b[?25h\u001b[31mERROR: Could not find a version that satisfies the requirement request (from gluoncv-torch) (from versions: none)\u001b[0m\n",
      "\u001b[31mERROR: No matching distribution found for request (from gluoncv-torch)\u001b[0m\n"
     ]
    }
   ],
   "source": [
    "!pip3 install gluoncv-torch"
   ]
  }
 ],
 "metadata": {
  "interpreter": {
   "hash": "31f2aee4e71d21fbe5cf8b01ff0e069b9275f58929596ceb00d14d90e3e16cd6"
  },
  "kernelspec": {
   "display_name": "Python 3.9.1 64-bit",
   "language": "python",
   "name": "python3"
  },
  "language_info": {
   "codemirror_mode": {
    "name": "ipython",
    "version": 3
   },
   "file_extension": ".py",
   "mimetype": "text/x-python",
   "name": "python",
   "nbconvert_exporter": "python",
   "pygments_lexer": "ipython3",
   "version": "3.9.1"
  },
  "orig_nbformat": 4
 },
 "nbformat": 4,
 "nbformat_minor": 2
}
